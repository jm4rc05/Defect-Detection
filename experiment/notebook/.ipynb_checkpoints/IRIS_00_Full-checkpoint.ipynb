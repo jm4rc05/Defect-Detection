{
 "cells": [
  {
   "cell_type": "markdown",
   "metadata": {},
   "source": [
    "# Pré-processamento de dados\n",
    "\n",
    "Arquivo MC1 de \"PROMISE Software Engineering Repository\""
   ]
  },
  {
   "cell_type": "code",
   "execution_count": 23,
   "metadata": {},
   "outputs": [],
   "source": [
    "import numpy as np\n",
    "import pandas as pd\n",
    "\n",
    "import seaborn as sns\n",
    "import matplotlib.pyplot as plt\n",
    "\n",
    "from imblearn.combine import SMOTETomek\n",
    "smk = SMOTETomek()\n",
    "\n",
    "\n",
    "def select_data_trein(data_column_list, class_column_list, convert = False):\n",
    "    # Ler dados de treinamento e avaliação\n",
    "    df = pd.read_csv('https://raw.githubusercontent.com/uiuc-cse/data-fa14/gh-pages/data/iris.csv', sep = ',', index_col = None)\n",
    "\n",
    "    # Converter coluna 'TRUE'/'FALSE para 1/0 (True e False respectivamente em Python)\n",
    "    if convert:\n",
    "        df[class_column_list] *= 1\n",
    "\n",
    "    # Manter apenas a(s) coluna(s) que será(ão) treinada(s) no modelo\n",
    "    df.drop(df.columns.difference(data_column_list + class_column_list), 1, inplace = True)\n",
    "\n",
    "    # Gráfico mostrando dados desbalanceados\n",
    "    sns.countplot(x = class_column_list[0], data = df)\n",
    "    plt.show()\n",
    "\n",
    "    # Matriz de variáveis independentes\n",
    "    df_independ = df.drop(class_column_list, 1)\n",
    "\n",
    "    # Matriz de variáveis dependentes\n",
    "    df_depend_defects = df.drop(df.columns.difference(class_column_list), 1)\n",
    "\n",
    "    # Rebalanceamento\n",
    "    df_depend_defects_res, df_independ_defects_res = smk.fit_sample(df_independ, df_depend_defects)\n",
    "\n",
    "    # Remontar o conjunto de dados com as variáveis dependentes e independente rebalanceadas\n",
    "    df_res = pd.concat([df_depend_defects_res, df_independ_defects_res], axis = 1)\n",
    "\n",
    "    # Gráfico mostrando dados balanceados\n",
    "    sns.countplot(x = class_column_list[0], data = df_res)\n",
    "    plt.show()\n",
    "\n",
    "    # Salvar para processamento\n",
    "    df_res.to_csv('../_pre/_pre.csv', index = False)"
   ]
  },
  {
   "cell_type": "markdown",
   "metadata": {},
   "source": [
    "# Processamento de dados"
   ]
  },
  {
   "cell_type": "code",
   "execution_count": 24,
   "metadata": {},
   "outputs": [],
   "source": [
    "import time\n",
    "import pandas as pd\n",
    "import numpy as np\n",
    "\n",
    "from matplotlib import pyplot as plt\n",
    "from pycm import ConfusionMatrix as cm, Compare as comp\n",
    "\n",
    "import os\n",
    "import datetime as dt\n",
    "from time import perf_counter\n",
    "\n",
    "from igel import Igel\n",
    "\n",
    "import logging\n",
    "\n",
    "\n",
    "def select_data_prev(data_column_list, class_column_list, convert = False):\n",
    "    # Carregar dados para previsão\n",
    "    df = pd.read_csv('https://raw.githubusercontent.com/uiuc-cse/data-fa14/gh-pages/data/iris.csv', sep = ',', index_col = None)\n",
    "\n",
    "    # Converter coluna 'TRUE'/'FALSE para 1/0 (True e False respectivamente em Python)\n",
    "    if convert:\n",
    "        df[class_column_list] *= 1\n",
    "\n",
    "    # Remover coluna com dados aferidos atualmente\n",
    "    df_original = df.filter(class_column_list, axis = 1)\n",
    "    \n",
    "    # Salvar para previsão\n",
    "    df_original.to_csv('../_pre/_original.csv', index = False)\n",
    "\n",
    "    # Manter apenas a(s) coluna(s) que será(ão) usada(s) na previsão\n",
    "    df.drop(df.columns.difference(data_column_list), 1, inplace = True)\n",
    "\n",
    "    # Salvar no arquivo para previsão\n",
    "    df.to_csv('../_pre/_copy.csv', index = False)\n",
    "\n",
    "# Função para o experimento\n",
    "# @param_file - Arquivo de parâmetros com a configuração para o scikit-learn\n",
    "# @prefix - Prefixo dos arquivos que serão gerados com os dados do experimento\n",
    "def execute_experiment(class_name, param_file, prefix):\n",
    "    \n",
    "    t_start = perf_counter()\n",
    "    \n",
    "    # TREINAMENTO\n",
    "    params = {\n",
    "        'cmd': 'fit',\n",
    "        'data_path': '../_pre/_pre.csv',\n",
    "        'yaml_path': '../igel/' + param_file +'.yaml'\n",
    "    }\n",
    "    Igel(**params)\n",
    "\n",
    "    # AVALIAÇÃO\n",
    "    params = {\n",
    "        'cmd': 'evaluate',\n",
    "        'data_path': '../_pre/_pre.csv',\n",
    "        'yaml_path': '../igel/' + param_file +'.yaml'\n",
    "    }\n",
    "    Igel(**params)\n",
    "\n",
    "    # PREVISÃO\n",
    "    params = {\n",
    "        'cmd': 'predict',\n",
    "        'data_path': '../_pre/_copy.csv',\n",
    "        'yaml_path': '../igel/' + param_file +'.yaml'\n",
    "    }\n",
    "    Igel(**params)\n",
    "    \n",
    "    t_stop = perf_counter()\n",
    "    \n",
    "    elapsed_time = t_stop - t_start\n",
    "    \n",
    "    # COMPARAÇÃO DOS RESULTADOS\n",
    "    df_original = pd.read_csv('../_pre/_original.csv', sep=',', index_col=None)\n",
    "    df_predictions = pd.read_csv('./model_results/predictions.csv', sep=',', index_col=None)\n",
    "    cols = df_predictions.columns\n",
    "    df_predictions[cols] = df_predictions[cols].apply(pd.to_numeric, errors = 'coerce', downcast = 'unsigned')\n",
    "    \n",
    "    # Matriz de confusão dos defeitos previstos\n",
    "    defects_cm = cm(actual_vector = df_original[class_name].to_numpy(), predict_vector = df_predictions[class_name].to_numpy())\n",
    "    \n",
    "    # MOVER EXPERIMENTO PARA UMA PASTA SEPARADA\n",
    "    current_date = dt.datetime.today().strftime ('%Y-%m-%d-%H-%M-%S')\n",
    "    os.rename(r'./model_results', r'./.result_' + prefix + '_' + str(current_date))\n",
    "    \n",
    "    return {\n",
    "        'elapsed_time': elapsed_time,\n",
    "        'defects_cm': defects_cm\n",
    "    }\n",
    "\n",
    "# Desligar o log de mensagens\n",
    "logging.getLogger('igel').setLevel(logging.ERROR)\n",
    "\n",
    "# Lista de experimentos\n",
    "labels = [ \n",
    "    'Adaboost',\n",
    "    'Bagging',\n",
    "    'BernoulliNaiveBayes',\n",
    "    'CalibratedClassifier',\n",
    "    'DecisionTree',\n",
    "    'ExtraTree',\n",
    "    'ExtraTrees',\n",
    "    'GaussianNaiveBayes',\n",
    "    'GradientBoosting',\n",
    "    'LinearSVM',\n",
    "    'LogisticRegression',\n",
    "    'NearestNeighbor',\n",
    "    'NeuralNetwork',\n",
    "    'PassiveAgressiveClassifier',\n",
    "    'Perceptron',\n",
    "    'RandomForest',\n",
    "    'Ridge',\n",
    "    'SVM',\n",
    "]\n",
    "\n",
    "# Prefixos para arquivos\n",
    "prefix = [\n",
    "    'A',\n",
    "    'B',\n",
    "    'BNB',\n",
    "    'CC',\n",
    "    'DT',\n",
    "    'ET',\n",
    "    'ETS',\n",
    "    'GNB',\n",
    "    'GB',\n",
    "    'LSVM',\n",
    "    'LR',\n",
    "    'NN',\n",
    "    'NNE',\n",
    "    'PC',\n",
    "    'P',\n",
    "    'RF',\n",
    "    'R',\n",
    "    'SVM',    \n",
    "]"
   ]
  },
  {
   "cell_type": "markdown",
   "metadata": {},
   "source": [
    "# Experimento"
   ]
  },
  {
   "cell_type": "code",
   "execution_count": 25,
   "metadata": {},
   "outputs": [
    {
     "data": {
      "image/png": "[encoded data removed]",
      "text/plain": [
       "<Figure size 432x288 with 1 Axes>"
      ]
     },
     "metadata": {
      "needs_background": "light"
     },
     "output_type": "display_data"
    },
    {
     "data": {
      "image/png": "[encoded data removed]",
      "text/plain": [
       "<Figure size 432x288 with 1 Axes>"
      ]
     },
     "metadata": {
      "needs_background": "light"
     },
     "output_type": "display_data"
    },
    {
     "ename": "TypeError",
     "evalue": "execute_experiment() missing 1 required positional argument: 'prefix'",
     "output_type": "error",
     "traceback": [
      "\u001b[0;31m---------------------------------------------------------------------------\u001b[0m",
      "\u001b[0;31mTypeError\u001b[0m                                 Traceback (most recent call last)",
      "\u001b[0;32m<ipython-input-25-16db26b8eff9>\u001b[0m in \u001b[0;36m<module>\u001b[0;34m\u001b[0m\n\u001b[1;32m     15\u001b[0m \u001b[0mselect_data_prev\u001b[0m\u001b[0;34m(\u001b[0m\u001b[0;34m[\u001b[0m\u001b[0;34m'sepal_length'\u001b[0m\u001b[0;34m,\u001b[0m \u001b[0;34m'sepal_width'\u001b[0m\u001b[0;34m,\u001b[0m \u001b[0;34m'petal_length'\u001b[0m\u001b[0;34m,\u001b[0m \u001b[0;34m'petal_width'\u001b[0m\u001b[0;34m]\u001b[0m\u001b[0;34m,\u001b[0m \u001b[0;34m[\u001b[0m\u001b[0;34m'species'\u001b[0m\u001b[0;34m]\u001b[0m\u001b[0;34m)\u001b[0m\u001b[0;34m\u001b[0m\u001b[0;34m\u001b[0m\u001b[0m\n\u001b[1;32m     16\u001b[0m \u001b[0;32mfor\u001b[0m \u001b[0mi\u001b[0m\u001b[0;34m,\u001b[0m \u001b[0malg\u001b[0m \u001b[0;32min\u001b[0m \u001b[0menumerate\u001b[0m\u001b[0;34m(\u001b[0m\u001b[0mlabels\u001b[0m\u001b[0;34m)\u001b[0m\u001b[0;34m:\u001b[0m\u001b[0;34m\u001b[0m\u001b[0;34m\u001b[0m\u001b[0m\n\u001b[0;32m---> 17\u001b[0;31m     \u001b[0mresult\u001b[0m\u001b[0;34m[\u001b[0m\u001b[0mi\u001b[0m\u001b[0;34m]\u001b[0m \u001b[0;34m=\u001b[0m \u001b[0mexecute_experiment\u001b[0m\u001b[0;34m(\u001b[0m\u001b[0;34m'classification_'\u001b[0m \u001b[0;34m+\u001b[0m \u001b[0malg\u001b[0m\u001b[0;34m,\u001b[0m \u001b[0mprefix\u001b[0m\u001b[0;34m[\u001b[0m\u001b[0mi\u001b[0m\u001b[0;34m]\u001b[0m\u001b[0;34m)\u001b[0m\u001b[0;34m\u001b[0m\u001b[0;34m\u001b[0m\u001b[0m\n\u001b[0m\u001b[1;32m     18\u001b[0m \u001b[0;34m\u001b[0m\u001b[0m\n\u001b[1;32m     19\u001b[0m \u001b[0;31m# Gráfico de execução\u001b[0m\u001b[0;34m\u001b[0m\u001b[0;34m\u001b[0m\u001b[0;34m\u001b[0m\u001b[0m\n",
      "\u001b[0;31mTypeError\u001b[0m: execute_experiment() missing 1 required positional argument: 'prefix'"
     ]
    }
   ],
   "source": [
    "# Executa experimentos\n",
    "# 'HALSTEAD_CONTENT'\n",
    "# 'HALSTEAD_DIFFICULTY'\n",
    "# 'HALSTEAD_EFFORT'\n",
    "# 'HALSTEAD_ERROR_EST'\n",
    "# 'HALSTEAD_LENGTH'\n",
    "# 'HALSTEAD_LEVEL'\n",
    "# 'HALSTEAD_PROG_TIME'\n",
    "# 'HALSTEAD_VOLUME'\n",
    "\n",
    "# Criar lista para guardar resultados de todos experimentos\n",
    "result = [0] * 18\n",
    "\n",
    "select_data_trein(['sepal_length', 'sepal_width', 'petal_length', 'petal_width'], ['species'])\n",
    "select_data_prev(['sepal_length', 'sepal_width', 'petal_length', 'petal_width'], ['species'])\n",
    "for i, alg in enumerate(labels):\n",
    "    result[i] = execute_experiment('species', 'classification_' + alg, prefix[i])\n",
    "\n",
    "# Gráfico de execução\n",
    "elapsed_times = [k['elapsed_time'] for k in result]\n",
    "x = np.arange(len(labels))\n",
    "width = .35\n",
    "fig, ax = plt.subplots()\n",
    "rects_elapsed_times = ax.barh(x, elapsed_times, width, label='Tempos de execução (em segs)')\n",
    "ax.set_xlabel('Tempos')\n",
    "ax.set_title('Tempos por algorítimo')\n",
    "ax.set_yticks(x)\n",
    "ax.set_yticklabels(labels)\n",
    "ax.legend()\n",
    "fig.tight_layout()\n",
    "plt.show()"
   ]
  },
  {
   "cell_type": "markdown",
   "metadata": {},
   "source": [
    "# Análise dos resultados"
   ]
  },
  {
   "cell_type": "code",
   "execution_count": null,
   "metadata": {},
   "outputs": [],
   "source": [
    "# Cria dicionário com todos os resultados obtidos\n",
    "experiment = {}\n",
    "print('Imbalance,','Binary,','Recomended list')\n",
    "for i, alg in enumerate(labels):\n",
    "    experiment[alg] = result[i]['defects_cm']\n",
    "    print(result[i]['defects_cm'].imbalance,result[i]['defects_cm'].binary,result[i]['defects_cm'].recommended_list[:10])\n",
    "\n",
    "# Faz um comparativo de todos via análise da matriz de confusão\n",
    "cp = comp(experiment)\n",
    "print(cp)\n",
    "\n",
    "# Matriz de confusão\n",
    "for i, alg in enumerate(labels):\n",
    "    result[i]['defects_cm'].plot(cmap = plt.cm.Greens, number_label = True, title = alg, plot_lib = 'matplotlib')\n",
    "\n",
    "plt.show()"
   ]
  },
  {
   "cell_type": "markdown",
   "metadata": {},
   "source": [
    "> This is the end"
   ]
  }
 ],
 "metadata": {
  "kernelspec": {
   "display_name": "Python 3",
   "language": "python",
   "name": "python3"
  },
  "language_info": {
   "codemirror_mode": {
    "name": "ipython",
    "version": 3
   },
   "file_extension": ".py",
   "mimetype": "text/x-python",
   "name": "python",
   "nbconvert_exporter": "python",
   "pygments_lexer": "ipython3",
   "version": "3.7.3"
  }
 },
 "nbformat": 4,
 "nbformat_minor": 4
}
