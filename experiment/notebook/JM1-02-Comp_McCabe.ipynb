{
 "cells": [
  {
   "cell_type": "markdown",
   "metadata": {},
   "source": [
    "# Comparação de Algorítimos aplicado ao Corpus McCabe"
   ]
  },
  {
   "cell_type": "markdown",
   "metadata": {},
   "source": [
    "## Importar bibliotecas"
   ]
  },
  {
   "cell_type": "code",
   "execution_count": 21,
   "metadata": {},
   "outputs": [],
   "source": [
    "import time\n",
    "import pandas as pd\n",
    "import numpy as np\n",
    "\n",
    "from matplotlib import pyplot as plt\n",
    "from pycm import ConfusionMatrix as cm\n",
    "\n",
    "import os\n",
    "import datetime as dt\n",
    "from time import perf_counter\n",
    "\n",
    "from igel import Igel\n",
    "\n",
    "import logging"
   ]
  },
  {
   "cell_type": "markdown",
   "metadata": {},
   "source": [
    "## Comfigurar os experimentos\n",
    "\n",
    "As configurações dos experimentos estão nos seguintes arquivos *.YAML*\n",
    "\n",
    "Todas as configurações aplicam 80% do conjunto de dados para treinamento e 20% para teste. Os dados são embaralhados."
   ]
  },
  {
   "cell_type": "code",
   "execution_count": 22,
   "metadata": {},
   "outputs": [],
   "source": [
    "# %load ../igel/classification_BernoulliNaiveBayes.yaml"
   ]
  },
  {
   "cell_type": "code",
   "execution_count": 23,
   "metadata": {},
   "outputs": [],
   "source": [
    "# %load ../igel/classification_DecisionTree.yaml"
   ]
  },
  {
   "cell_type": "code",
   "execution_count": 24,
   "metadata": {},
   "outputs": [],
   "source": [
    "# %load ../igel/classification_SVM.yaml"
   ]
  },
  {
   "cell_type": "code",
   "execution_count": 25,
   "metadata": {},
   "outputs": [],
   "source": [
    "# %load ../igel/classification_RandomForest.yaml"
   ]
  },
  {
   "cell_type": "markdown",
   "metadata": {},
   "source": [
    "## Preparar dados para previsão"
   ]
  },
  {
   "cell_type": "markdown",
   "metadata": {},
   "source": [
    "### Carregar arquivo que será utilizado na previsão"
   ]
  },
  {
   "cell_type": "code",
   "execution_count": 26,
   "metadata": {},
   "outputs": [],
   "source": [
    "#df = pd.read_csv('../_data/cm1.csv', sep=',', index_col=None)\n",
    "df = pd.read_csv('../_data/kc2.csv', sep=',', index_col=None)\n",
    "# Eliminar primeira linha, sempre inválida nestes conjuntos de dados\n",
    "df.drop(df.index[0], inplace = True)"
   ]
  },
  {
   "cell_type": "markdown",
   "metadata": {},
   "source": [
    "### Salvar dados originais"
   ]
  },
  {
   "cell_type": "code",
   "execution_count": 27,
   "metadata": {},
   "outputs": [],
   "source": [
    "df_original = df.filter(['defects'], axis = 1)\n",
    "\n",
    "df_original.to_csv('../_pre/_original.csv', index = False)"
   ]
  },
  {
   "cell_type": "markdown",
   "metadata": {},
   "source": [
    "### Remover todas as colunas exceto os indicadores de McCabe"
   ]
  },
  {
   "cell_type": "code",
   "execution_count": 28,
   "metadata": {},
   "outputs": [],
   "source": [
    "df.drop(df.columns.difference(['v(g)', 'ev(g)', 'iv(g)', 'loc']), 1, inplace=True)"
   ]
  },
  {
   "cell_type": "markdown",
   "metadata": {},
   "source": [
    "### Pré-processar os dados para previsão"
   ]
  },
  {
   "cell_type": "code",
   "execution_count": 29,
   "metadata": {},
   "outputs": [],
   "source": [
    "idxRowNan = pd.isnull(df).any(1).to_numpy().nonzero()\n",
    "df.drop(df.index[idxRowNan], inplace = True)\n",
    "cols = df.columns\n",
    "df[cols] = df[cols].apply(pd.to_numeric, errors = 'ignore')\n",
    "\n",
    "def normalizar(data):\n",
    "    \n",
    "    m, n = data.shape # m = qtde de objetos e n = qtde de atributos por objeto\n",
    "    \n",
    "    # Incializa as variaves de saída\n",
    "    data_norm = np.random.rand(m,n) #inicializa data_norm com valores aleatórios\n",
    "    mu = 0 # inicializa a média\n",
    "    sigma = 1 # inicializa o desvio padrão\n",
    "     \n",
    "    mu = np.mean(data, axis=0)\n",
    "    sigma = np.std(data, axis=0, ddof=1)\n",
    "    \n",
    "    for i in range(m):\n",
    "        data_norm[i,:] = (data[i,:]-mu) / sigma\n",
    "        \n",
    "    \n",
    "    return data_norm, mu, sigma\n",
    "\n",
    "df_temp = df.iloc[:,0:-1].to_numpy()\n",
    "df_normal, mu, sigma = normalizar(df_temp)\n",
    "df.iloc[:,0:-1] = df_normal"
   ]
  },
  {
   "cell_type": "markdown",
   "metadata": {},
   "source": [
    "### Salvar o conjunto de dados para previsão¶"
   ]
  },
  {
   "cell_type": "code",
   "execution_count": 30,
   "metadata": {},
   "outputs": [],
   "source": [
    "df.to_csv('../_pre/_copy.csv', index = False)"
   ]
  },
  {
   "cell_type": "markdown",
   "metadata": {},
   "source": [
    "## Comparação de classificadores e regressores"
   ]
  },
  {
   "cell_type": "markdown",
   "metadata": {},
   "source": [
    "### Executar classificador¶"
   ]
  },
  {
   "cell_type": "code",
   "execution_count": 31,
   "metadata": {},
   "outputs": [],
   "source": [
    "def execute_experiment(paramFile, prefix):\n",
    "    \n",
    "    t_start = perf_counter()\n",
    "    \n",
    "    # TREINAMENTO\n",
    "    params = {\n",
    "        'cmd': 'fit',\n",
    "        'data_path': '../_pre/jm1_mccabe_pre.csv',\n",
    "        'yaml_path': '../igel/' + paramFile +'.yaml'\n",
    "    }\n",
    "    Igel(**params)\n",
    "\n",
    "    # AVALIAÇÃO\n",
    "    params = {\n",
    "        'cmd': 'evaluate',\n",
    "        'data_path': '../_pre/jm1_mccabe_pre.csv',\n",
    "        'yaml_path': '../igel/' + paramFile +'.yaml'\n",
    "    }\n",
    "    Igel(**params)\n",
    "\n",
    "    # PREVISÃO\n",
    "    params = {\n",
    "        'cmd': 'predict',\n",
    "        'data_path': '../_pre/_copy.csv',\n",
    "        'yaml_path': '../igel/' + paramFile +'.yaml'\n",
    "    }\n",
    "    Igel(**params)\n",
    "    \n",
    "    t_stop = perf_counter()\n",
    "    \n",
    "    elapsed_time = t_stop - t_start\n",
    "    \n",
    "    # COMPARAÇÃO DOS RESULTADOS\n",
    "    df_original = pd.read_csv('../_pre/_original.csv', sep=',', index_col=None)\n",
    "    df_predictions = pd.read_csv('./model_results/predictions.csv', sep=',', index_col=None)\n",
    "    cols = df_predictions.columns\n",
    "    df_predictions[cols] = df_predictions[cols].apply(pd.to_numeric, errors = 'coerce', downcast = 'unsigned')\n",
    "    \n",
    "    # Matriz de confusão - Defeitos\n",
    "    defects_cm = cm(actual_vector = df_original['defects'].to_numpy(), predict_vector = df_predictions['defects_binned'].to_numpy())\n",
    "    \n",
    "    # MOVER EXPERIMENTO PARA UMA PASTA SEPARADA\n",
    "    current_date = dt.datetime.today().strftime ('%Y-%m-%d-%H-%M-%S')\n",
    "    os.rename(r'./model_results', r'./.result_' + prefix + '_' + str(current_date))\n",
    "    \n",
    "    return {\n",
    "        'elapsed_time': elapsed_time,\n",
    "        'defects_cm': defects_cm,\n",
    "    }\n",
    "\n",
    "logging.getLogger('igel').setLevel(logging.ERROR)"
   ]
  },
  {
   "cell_type": "markdown",
   "metadata": {},
   "source": [
    "### Executar experimentos"
   ]
  },
  {
   "cell_type": "markdown",
   "metadata": {},
   "source": [
    "#### Naïve Bayes"
   ]
  },
  {
   "cell_type": "code",
   "execution_count": 32,
   "metadata": {},
   "outputs": [],
   "source": [
    "naive_bayes = execute_experiment('classification_BernoulliNaiveBayes', 'BNB')"
   ]
  },
  {
   "cell_type": "markdown",
   "metadata": {},
   "source": [
    "#### Decision Tree"
   ]
  },
  {
   "cell_type": "code",
   "execution_count": 33,
   "metadata": {},
   "outputs": [],
   "source": [
    "decision_tree = execute_experiment('classification_DecisionTree', 'DT')"
   ]
  },
  {
   "cell_type": "markdown",
   "metadata": {},
   "source": [
    "#### Support Vector Machine¶"
   ]
  },
  {
   "cell_type": "code",
   "execution_count": 34,
   "metadata": {},
   "outputs": [],
   "source": [
    "support_vector_machine = execute_experiment('classification_SVM', 'SVM')"
   ]
  },
  {
   "cell_type": "markdown",
   "metadata": {},
   "source": [
    "#### Random Forest"
   ]
  },
  {
   "cell_type": "code",
   "execution_count": 35,
   "metadata": {},
   "outputs": [],
   "source": [
    "random_forest = execute_experiment('classification_RandomForest', 'RF')"
   ]
  },
  {
   "cell_type": "markdown",
   "metadata": {},
   "source": [
    "## Comparação"
   ]
  },
  {
   "cell_type": "markdown",
   "metadata": {},
   "source": [
    "### Função de comparação"
   ]
  },
  {
   "cell_type": "code",
   "execution_count": 36,
   "metadata": {},
   "outputs": [
    {
     "data": {
      "image/png": "[encoded data removed]",
      "text/plain": [
       "<Figure size 432x288 with 1 Axes>"
      ]
     },
     "metadata": {
      "needs_background": "light"
     },
     "output_type": "display_data"
    },
    {
     "data": {
      "image/png": "[encoded data removed]",
      "text/plain": [
       "<Figure size 432x288 with 2 Axes>"
      ]
     },
     "metadata": {
      "needs_background": "light"
     },
     "output_type": "display_data"
    },
    {
     "data": {
      "image/png": "[encoded data removed]",
      "text/plain": [
       "<Figure size 432x288 with 2 Axes>"
      ]
     },
     "metadata": {
      "needs_background": "light"
     },
     "output_type": "display_data"
    },
    {
     "data": {
      "image/png": "[encoded data removed]",
      "text/plain": [
       "<Figure size 432x288 with 2 Axes>"
      ]
     },
     "metadata": {
      "needs_background": "light"
     },
     "output_type": "display_data"
    },
    {
     "data": {
      "image/png": "[encoded data removed]",
      "text/plain": [
       "<Figure size 432x288 with 2 Axes>"
      ]
     },
     "metadata": {
      "needs_background": "light"
     },
     "output_type": "display_data"
    }
   ],
   "source": [
    "labels = [ 'Naïve Bayes', 'Decistion Tree', 'SVM', 'Random Forest' ]\n",
    "elapsed_times = [ naive_bayes['elapsed_time'], decision_tree['elapsed_time'], support_vector_machine['elapsed_time'], random_forest['elapsed_time'] ]\n",
    "x = np.arange(len(labels))\n",
    "width = 0.35\n",
    "fig, ax = plt.subplots()\n",
    "rects_elapsed_times = ax.bar(x, elapsed_times, width, label='Tempos de execução (em segs)')\n",
    "ax.set_ylabel('Tempos')\n",
    "ax.set_title('Tempos por algorítimo')\n",
    "ax.set_xticks(x)\n",
    "ax.set_xticklabels(labels)\n",
    "ax.legend()\n",
    "fig.tight_layout()\n",
    "plt.show()\n",
    "\n",
    "naive_bayes['defects_cm'].plot(cmap = plt.cm.Greens, number_label = True, title = 'Defeitos - Naïves Bayes', plot_lib = 'matplotlib')\n",
    "decision_tree['defects_cm'].plot(cmap = plt.cm.Greens, number_label = True, title = 'Defeitos - Decistion Tree', plot_lib = 'matplotlib')\n",
    "support_vector_machine['defects_cm'].plot(cmap = plt.cm.Greens, number_label = True, title = 'Defeitos - SVM', plot_lib = 'matplotlib')\n",
    "random_forest['defects_cm'].plot(cmap = plt.cm.Greens, number_label = True, title = 'Defeitos - Random Forest', plot_lib = 'matplotlib')\n",
    "plt.show()"
   ]
  },
  {
   "cell_type": "markdown",
   "metadata": {},
   "source": [
    "> This is the end"
   ]
  }
 ],
 "metadata": {
  "kernelspec": {
   "display_name": "Python 3",
   "language": "python",
   "name": "python3"
  },
  "language_info": {
   "codemirror_mode": {
    "name": "ipython",
    "version": 3
   },
   "file_extension": ".py",
   "mimetype": "text/x-python",
   "name": "python",
   "nbconvert_exporter": "python",
   "pygments_lexer": "ipython3",
   "version": "3.7.3"
  }
 },
 "nbformat": 4,
 "nbformat_minor": 4
}
